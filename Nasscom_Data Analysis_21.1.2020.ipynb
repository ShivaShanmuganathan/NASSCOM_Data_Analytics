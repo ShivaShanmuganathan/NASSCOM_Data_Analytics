{
 "cells": [
  {
   "cell_type": "markdown",
   "metadata": {},
   "source": [
    "## Importing & Reading the Data as CSV"
   ]
  },
  {
   "cell_type": "code",
   "execution_count": 4,
   "metadata": {},
   "outputs": [],
   "source": [
    "df <- read.csv(\"C:/Users/RAGHUL/Desktop/GRE-Quants/assignment.csv\")"
   ]
  },
  {
   "cell_type": "code",
   "execution_count": 6,
   "metadata": {
    "scrolled": true
   },
   "outputs": [
    {
     "data": {
      "text/html": [
       "<table>\n",
       "<thead><tr><th scope=col>Instructor</th><th scope=col>Grade</th><th scope=col>Words_per_minute</th><th scope=col>Proofreading</th><th scope=col>Spreadsheet</th><th scope=col>Statistics</th></tr></thead>\n",
       "<tbody>\n",
       "\t<tr><td>Dr. Katz</td><td>6       </td><td>35      </td><td>53      </td><td>75      </td><td>61      </td></tr>\n",
       "\t<tr><td>Dr. Katz</td><td>6       </td><td>50      </td><td>77      </td><td>24      </td><td>51      </td></tr>\n",
       "\t<tr><td>Dr. Katz</td><td>6       </td><td>55      </td><td>71      </td><td>62      </td><td>55      </td></tr>\n",
       "\t<tr><td>Dr. Katz</td><td>6       </td><td>60      </td><td>78      </td><td>27      </td><td>91      </td></tr>\n",
       "\t<tr><td>Dr. Katz</td><td>6       </td><td>65      </td><td>84      </td><td>44      </td><td>95      </td></tr>\n",
       "\t<tr><td>Dr. Katz</td><td>6       </td><td>60      </td><td>79      </td><td>38      </td><td>50      </td></tr>\n",
       "</tbody>\n",
       "</table>\n"
      ],
      "text/latex": [
       "\\begin{tabular}{r|llllll}\n",
       " Instructor & Grade & Words\\_per\\_minute & Proofreading & Spreadsheet & Statistics\\\\\n",
       "\\hline\n",
       "\t Dr. Katz & 6        & 35       & 53       & 75       & 61      \\\\\n",
       "\t Dr. Katz & 6        & 50       & 77       & 24       & 51      \\\\\n",
       "\t Dr. Katz & 6        & 55       & 71       & 62       & 55      \\\\\n",
       "\t Dr. Katz & 6        & 60       & 78       & 27       & 91      \\\\\n",
       "\t Dr. Katz & 6        & 65       & 84       & 44       & 95      \\\\\n",
       "\t Dr. Katz & 6        & 60       & 79       & 38       & 50      \\\\\n",
       "\\end{tabular}\n"
      ],
      "text/markdown": [
       "\n",
       "| Instructor | Grade | Words_per_minute | Proofreading | Spreadsheet | Statistics |\n",
       "|---|---|---|---|---|---|\n",
       "| Dr. Katz | 6        | 35       | 53       | 75       | 61       |\n",
       "| Dr. Katz | 6        | 50       | 77       | 24       | 51       |\n",
       "| Dr. Katz | 6        | 55       | 71       | 62       | 55       |\n",
       "| Dr. Katz | 6        | 60       | 78       | 27       | 91       |\n",
       "| Dr. Katz | 6        | 65       | 84       | 44       | 95       |\n",
       "| Dr. Katz | 6        | 60       | 79       | 38       | 50       |\n",
       "\n"
      ],
      "text/plain": [
       "  Instructor Grade Words_per_minute Proofreading Spreadsheet Statistics\n",
       "1 Dr. Katz   6     35               53           75          61        \n",
       "2 Dr. Katz   6     50               77           24          51        \n",
       "3 Dr. Katz   6     55               71           62          55        \n",
       "4 Dr. Katz   6     60               78           27          91        \n",
       "5 Dr. Katz   6     65               84           44          95        \n",
       "6 Dr. Katz   6     60               79           38          50        "
      ]
     },
     "metadata": {},
     "output_type": "display_data"
    }
   ],
   "source": [
    "head(df)"
   ]
  },
  {
   "cell_type": "markdown",
   "metadata": {},
   "source": [
    "### Plotting Words_per_minute along x axis and Proofreading along y axis"
   ]
  },
  {
   "cell_type": "code",
   "execution_count": 18,
   "metadata": {
    "scrolled": true
   },
   "outputs": [
    {
     "data": {
      "image/png": "[encoded data removed]",
      "text/plain": [
       "plot without title"
      ]
     },
     "metadata": {},
     "output_type": "display_data"
    }
   ],
   "source": [
    "ggplot(data=df, aes(x=Words_per_minute, y=Proofreading, color=Instructor)) + geom_point(size=2)"
   ]
  },
  {
   "cell_type": "markdown",
   "metadata": {},
   "source": [
    "## Removing Non Numerical Variables"
   ]
  },
  {
   "cell_type": "code",
   "execution_count": 7,
   "metadata": {
    "scrolled": true
   },
   "outputs": [
    {
     "data": {
      "text/html": [
       "<table>\n",
       "<thead><tr><th scope=col>Grade</th><th scope=col>Words_per_minute</th><th scope=col>Proofreading</th><th scope=col>Spreadsheet</th><th scope=col>Statistics</th></tr></thead>\n",
       "<tbody>\n",
       "\t<tr><td>6 </td><td>35</td><td>53</td><td>75</td><td>61</td></tr>\n",
       "\t<tr><td>6 </td><td>50</td><td>77</td><td>24</td><td>51</td></tr>\n",
       "\t<tr><td>6 </td><td>55</td><td>71</td><td>62</td><td>55</td></tr>\n",
       "\t<tr><td>6 </td><td>60</td><td>78</td><td>27</td><td>91</td></tr>\n",
       "\t<tr><td>6 </td><td>65</td><td>84</td><td>44</td><td>95</td></tr>\n",
       "\t<tr><td>6 </td><td>60</td><td>79</td><td>38</td><td>50</td></tr>\n",
       "\t<tr><td>6 </td><td>70</td><td>96</td><td>12</td><td>94</td></tr>\n",
       "\t<tr><td>6 </td><td>45</td><td>73</td><td>59</td><td>75</td></tr>\n",
       "\t<tr><td>6 </td><td>55</td><td>75</td><td>55</td><td>80</td></tr>\n",
       "\t<tr><td>6 </td><td>60</td><td>85</td><td>35</td><td>84</td></tr>\n",
       "\t<tr><td>6 </td><td>45</td><td>61</td><td>49</td><td>80</td></tr>\n",
       "\t<tr><td>7 </td><td>55</td><td>59</td><td>79</td><td>57</td></tr>\n",
       "\t<tr><td>7 </td><td>60</td><td>60</td><td>60</td><td>60</td></tr>\n",
       "\t<tr><td>7 </td><td>75</td><td>90</td><td>19</td><td>64</td></tr>\n",
       "\t<tr><td>7 </td><td>65</td><td>87</td><td>32</td><td>65</td></tr>\n",
       "\t<tr><td>7 </td><td>60</td><td>70</td><td>33</td><td>94</td></tr>\n",
       "\t<tr><td>7 </td><td>70</td><td>84</td><td>27</td><td>54</td></tr>\n",
       "\t<tr><td>7 </td><td>75</td><td>87</td><td>24</td><td>59</td></tr>\n",
       "\t<tr><td>7 </td><td>70</td><td>97</td><td>38</td><td>74</td></tr>\n",
       "\t<tr><td>7 </td><td>65</td><td>86</td><td>30</td><td>52</td></tr>\n",
       "\t<tr><td>7 </td><td>72</td><td>91</td><td>36</td><td>66</td></tr>\n",
       "\t<tr><td>7 </td><td>73</td><td>88</td><td>20</td><td>57</td></tr>\n",
       "\t<tr><td>7 </td><td>65</td><td>86</td><td>19</td><td>71</td></tr>\n",
       "\t<tr><td>8 </td><td>55</td><td>84</td><td>20</td><td>76</td></tr>\n",
       "\t<tr><td>8 </td><td>55</td><td>63</td><td>44</td><td>94</td></tr>\n",
       "\t<tr><td>8 </td><td>70</td><td>95</td><td>31</td><td>88</td></tr>\n",
       "\t<tr><td>8 </td><td>55</td><td>63</td><td>69</td><td>93</td></tr>\n",
       "\t<tr><td>8 </td><td>65</td><td>65</td><td>47</td><td>70</td></tr>\n",
       "\t<tr><td>8 </td><td>60</td><td>61</td><td>63</td><td>92</td></tr>\n",
       "\t<tr><td>8 </td><td>70</td><td>80</td><td>35</td><td>60</td></tr>\n",
       "\t<tr><td>8 </td><td>60</td><td>88</td><td>38</td><td>58</td></tr>\n",
       "\t<tr><td>8 </td><td>60</td><td>71</td><td>65</td><td>99</td></tr>\n",
       "\t<tr><td>8 </td><td>62</td><td>78</td><td>46</td><td>54</td></tr>\n",
       "\t<tr><td>8 </td><td>63</td><td>89</td><td>17</td><td>60</td></tr>\n",
       "\t<tr><td>8 </td><td>65</td><td>75</td><td>33</td><td>77</td></tr>\n",
       "</tbody>\n",
       "</table>\n"
      ],
      "text/latex": [
       "\\begin{tabular}{r|lllll}\n",
       " Grade & Words\\_per\\_minute & Proofreading & Spreadsheet & Statistics\\\\\n",
       "\\hline\n",
       "\t 6  & 35 & 53 & 75 & 61\\\\\n",
       "\t 6  & 50 & 77 & 24 & 51\\\\\n",
       "\t 6  & 55 & 71 & 62 & 55\\\\\n",
       "\t 6  & 60 & 78 & 27 & 91\\\\\n",
       "\t 6  & 65 & 84 & 44 & 95\\\\\n",
       "\t 6  & 60 & 79 & 38 & 50\\\\\n",
       "\t 6  & 70 & 96 & 12 & 94\\\\\n",
       "\t 6  & 45 & 73 & 59 & 75\\\\\n",
       "\t 6  & 55 & 75 & 55 & 80\\\\\n",
       "\t 6  & 60 & 85 & 35 & 84\\\\\n",
       "\t 6  & 45 & 61 & 49 & 80\\\\\n",
       "\t 7  & 55 & 59 & 79 & 57\\\\\n",
       "\t 7  & 60 & 60 & 60 & 60\\\\\n",
       "\t 7  & 75 & 90 & 19 & 64\\\\\n",
       "\t 7  & 65 & 87 & 32 & 65\\\\\n",
       "\t 7  & 60 & 70 & 33 & 94\\\\\n",
       "\t 7  & 70 & 84 & 27 & 54\\\\\n",
       "\t 7  & 75 & 87 & 24 & 59\\\\\n",
       "\t 7  & 70 & 97 & 38 & 74\\\\\n",
       "\t 7  & 65 & 86 & 30 & 52\\\\\n",
       "\t 7  & 72 & 91 & 36 & 66\\\\\n",
       "\t 7  & 73 & 88 & 20 & 57\\\\\n",
       "\t 7  & 65 & 86 & 19 & 71\\\\\n",
       "\t 8  & 55 & 84 & 20 & 76\\\\\n",
       "\t 8  & 55 & 63 & 44 & 94\\\\\n",
       "\t 8  & 70 & 95 & 31 & 88\\\\\n",
       "\t 8  & 55 & 63 & 69 & 93\\\\\n",
       "\t 8  & 65 & 65 & 47 & 70\\\\\n",
       "\t 8  & 60 & 61 & 63 & 92\\\\\n",
       "\t 8  & 70 & 80 & 35 & 60\\\\\n",
       "\t 8  & 60 & 88 & 38 & 58\\\\\n",
       "\t 8  & 60 & 71 & 65 & 99\\\\\n",
       "\t 8  & 62 & 78 & 46 & 54\\\\\n",
       "\t 8  & 63 & 89 & 17 & 60\\\\\n",
       "\t 8  & 65 & 75 & 33 & 77\\\\\n",
       "\\end{tabular}\n"
      ],
      "text/markdown": [
       "\n",
       "| Grade | Words_per_minute | Proofreading | Spreadsheet | Statistics |\n",
       "|---|---|---|---|---|\n",
       "| 6  | 35 | 53 | 75 | 61 |\n",
       "| 6  | 50 | 77 | 24 | 51 |\n",
       "| 6  | 55 | 71 | 62 | 55 |\n",
       "| 6  | 60 | 78 | 27 | 91 |\n",
       "| 6  | 65 | 84 | 44 | 95 |\n",
       "| 6  | 60 | 79 | 38 | 50 |\n",
       "| 6  | 70 | 96 | 12 | 94 |\n",
       "| 6  | 45 | 73 | 59 | 75 |\n",
       "| 6  | 55 | 75 | 55 | 80 |\n",
       "| 6  | 60 | 85 | 35 | 84 |\n",
       "| 6  | 45 | 61 | 49 | 80 |\n",
       "| 7  | 55 | 59 | 79 | 57 |\n",
       "| 7  | 60 | 60 | 60 | 60 |\n",
       "| 7  | 75 | 90 | 19 | 64 |\n",
       "| 7  | 65 | 87 | 32 | 65 |\n",
       "| 7  | 60 | 70 | 33 | 94 |\n",
       "| 7  | 70 | 84 | 27 | 54 |\n",
       "| 7  | 75 | 87 | 24 | 59 |\n",
       "| 7  | 70 | 97 | 38 | 74 |\n",
       "| 7  | 65 | 86 | 30 | 52 |\n",
       "| 7  | 72 | 91 | 36 | 66 |\n",
       "| 7  | 73 | 88 | 20 | 57 |\n",
       "| 7  | 65 | 86 | 19 | 71 |\n",
       "| 8  | 55 | 84 | 20 | 76 |\n",
       "| 8  | 55 | 63 | 44 | 94 |\n",
       "| 8  | 70 | 95 | 31 | 88 |\n",
       "| 8  | 55 | 63 | 69 | 93 |\n",
       "| 8  | 65 | 65 | 47 | 70 |\n",
       "| 8  | 60 | 61 | 63 | 92 |\n",
       "| 8  | 70 | 80 | 35 | 60 |\n",
       "| 8  | 60 | 88 | 38 | 58 |\n",
       "| 8  | 60 | 71 | 65 | 99 |\n",
       "| 8  | 62 | 78 | 46 | 54 |\n",
       "| 8  | 63 | 89 | 17 | 60 |\n",
       "| 8  | 65 | 75 | 33 | 77 |\n",
       "\n"
      ],
      "text/plain": [
       "   Grade Words_per_minute Proofreading Spreadsheet Statistics\n",
       "1  6     35               53           75          61        \n",
       "2  6     50               77           24          51        \n",
       "3  6     55               71           62          55        \n",
       "4  6     60               78           27          91        \n",
       "5  6     65               84           44          95        \n",
       "6  6     60               79           38          50        \n",
       "7  6     70               96           12          94        \n",
       "8  6     45               73           59          75        \n",
       "9  6     55               75           55          80        \n",
       "10 6     60               85           35          84        \n",
       "11 6     45               61           49          80        \n",
       "12 7     55               59           79          57        \n",
       "13 7     60               60           60          60        \n",
       "14 7     75               90           19          64        \n",
       "15 7     65               87           32          65        \n",
       "16 7     60               70           33          94        \n",
       "17 7     70               84           27          54        \n",
       "18 7     75               87           24          59        \n",
       "19 7     70               97           38          74        \n",
       "20 7     65               86           30          52        \n",
       "21 7     72               91           36          66        \n",
       "22 7     73               88           20          57        \n",
       "23 7     65               86           19          71        \n",
       "24 8     55               84           20          76        \n",
       "25 8     55               63           44          94        \n",
       "26 8     70               95           31          88        \n",
       "27 8     55               63           69          93        \n",
       "28 8     65               65           47          70        \n",
       "29 8     60               61           63          92        \n",
       "30 8     70               80           35          60        \n",
       "31 8     60               88           38          58        \n",
       "32 8     60               71           65          99        \n",
       "33 8     62               78           46          54        \n",
       "34 8     63               89           17          60        \n",
       "35 8     65               75           33          77        "
      ]
     },
     "metadata": {},
     "output_type": "display_data"
    }
   ],
   "source": [
    "df_num <- (df[,-1])\n",
    "df_num"
   ]
  },
  {
   "cell_type": "markdown",
   "metadata": {},
   "source": [
    "# Correlation Matrix"
   ]
  },
  {
   "cell_type": "markdown",
   "metadata": {},
   "source": [
    "#### Each variable is compared to every other variable and correlation is obtained"
   ]
  },
  {
   "cell_type": "code",
   "execution_count": 8,
   "metadata": {
    "scrolled": true
   },
   "outputs": [
    {
     "data": {
      "text/html": [
       "<table>\n",
       "<thead><tr><th></th><th scope=col>Grade</th><th scope=col>Words_per_minute</th><th scope=col>Proofreading</th><th scope=col>Spreadsheet</th><th scope=col>Statistics</th></tr></thead>\n",
       "<tbody>\n",
       "\t<tr><th scope=row>Grade</th><td> 1.000000000</td><td> 0.31646804 </td><td> 0.006126351</td><td>-0.02452209 </td><td> 0.07634421 </td></tr>\n",
       "\t<tr><th scope=row>Words_per_minute</th><td> 0.316468043</td><td> 1.00000000 </td><td> 0.714108693</td><td>-0.60642223 </td><td>-0.07332261 </td></tr>\n",
       "\t<tr><th scope=row>Proofreading</th><td> 0.006126351</td><td> 0.71410869 </td><td> 1.000000000</td><td>-0.79000031 </td><td>-0.11842885 </td></tr>\n",
       "\t<tr><th scope=row>Spreadsheet</th><td>-0.024522089</td><td>-0.60642223 </td><td>-0.790000313</td><td> 1.00000000 </td><td> 0.11527712 </td></tr>\n",
       "\t<tr><th scope=row>Statistics</th><td> 0.076344214</td><td>-0.07332261 </td><td>-0.118428851</td><td> 0.11527712 </td><td> 1.00000000 </td></tr>\n",
       "</tbody>\n",
       "</table>\n"
      ],
      "text/latex": [
       "\\begin{tabular}{r|lllll}\n",
       "  & Grade & Words\\_per\\_minute & Proofreading & Spreadsheet & Statistics\\\\\n",
       "\\hline\n",
       "\tGrade &  1.000000000 &  0.31646804  &  0.006126351 & -0.02452209  &  0.07634421 \\\\\n",
       "\tWords\\_per\\_minute &  0.316468043 &  1.00000000  &  0.714108693 & -0.60642223  & -0.07332261 \\\\\n",
       "\tProofreading &  0.006126351 &  0.71410869  &  1.000000000 & -0.79000031  & -0.11842885 \\\\\n",
       "\tSpreadsheet & -0.024522089 & -0.60642223  & -0.790000313 &  1.00000000  &  0.11527712 \\\\\n",
       "\tStatistics &  0.076344214 & -0.07332261  & -0.118428851 &  0.11527712  &  1.00000000 \\\\\n",
       "\\end{tabular}\n"
      ],
      "text/markdown": [
       "\n",
       "| <!--/--> | Grade | Words_per_minute | Proofreading | Spreadsheet | Statistics |\n",
       "|---|---|---|---|---|---|\n",
       "| Grade |  1.000000000 |  0.31646804  |  0.006126351 | -0.02452209  |  0.07634421  |\n",
       "| Words_per_minute |  0.316468043 |  1.00000000  |  0.714108693 | -0.60642223  | -0.07332261  |\n",
       "| Proofreading |  0.006126351 |  0.71410869  |  1.000000000 | -0.79000031  | -0.11842885  |\n",
       "| Spreadsheet | -0.024522089 | -0.60642223  | -0.790000313 |  1.00000000  |  0.11527712  |\n",
       "| Statistics |  0.076344214 | -0.07332261  | -0.118428851 |  0.11527712  |  1.00000000  |\n",
       "\n"
      ],
      "text/plain": [
       "                 Grade        Words_per_minute Proofreading Spreadsheet\n",
       "Grade             1.000000000  0.31646804       0.006126351 -0.02452209\n",
       "Words_per_minute  0.316468043  1.00000000       0.714108693 -0.60642223\n",
       "Proofreading      0.006126351  0.71410869       1.000000000 -0.79000031\n",
       "Spreadsheet      -0.024522089 -0.60642223      -0.790000313  1.00000000\n",
       "Statistics        0.076344214 -0.07332261      -0.118428851  0.11527712\n",
       "                 Statistics \n",
       "Grade             0.07634421\n",
       "Words_per_minute -0.07332261\n",
       "Proofreading     -0.11842885\n",
       "Spreadsheet       0.11527712\n",
       "Statistics        1.00000000"
      ]
     },
     "metadata": {},
     "output_type": "display_data"
    }
   ],
   "source": [
    "matrix_corr <- cor(df_num)\n",
    "matrix_corr"
   ]
  },
  {
   "cell_type": "markdown",
   "metadata": {},
   "source": [
    "#### Picking the Two Most Correlated Variables"
   ]
  },
  {
   "cell_type": "code",
   "execution_count": 9,
   "metadata": {},
   "outputs": [
    {
     "name": "stdout",
     "output_type": "stream",
     "text": [
      "[1] \"Words_per_minute\"\n",
      "Proofreading \n",
      "           3 \n",
      "[1] \"Proofreading\"\n",
      "Words_per_minute \n",
      "               2 \n"
     ]
    }
   ],
   "source": [
    "for (i in 1:nrow(matrix_corr)){\n",
    "  correlations <-  which((matrix_corr[i,] > 0.50) & (matrix_corr[i,] != 1))\n",
    "  \n",
    "  if(length(correlations)> 0){\n",
    "    print(colnames(df_num)[i])\n",
    "    print(correlations)\n",
    "  }\n",
    "}"
   ]
  },
  {
   "cell_type": "markdown",
   "metadata": {},
   "source": [
    "# Plotting the Correlation Matrix in the form of Ellipse"
   ]
  },
  {
   "cell_type": "code",
   "execution_count": 11,
   "metadata": {},
   "outputs": [
    {
     "name": "stderr",
     "output_type": "stream",
     "text": [
      "Warning message:\n",
      "\"package 'corrplot' was built under R version 3.6.2\"corrplot 0.84 loaded\n"
     ]
    },
    {
     "data": {
      "image/png": "[encoded data removed]",
      "text/plain": [
       "Plot with title \"\""
      ]
     },
     "metadata": {},
     "output_type": "display_data"
    }
   ],
   "source": [
    "library(corrplot)\n",
    "corrplot(matrix_corr, method = \"ellipse\")"
   ]
  },
  {
   "cell_type": "markdown",
   "metadata": {},
   "source": [
    "## Correlation Coeffecient of Different Methods"
   ]
  },
  {
   "cell_type": "code",
   "execution_count": 12,
   "metadata": {},
   "outputs": [
    {
     "name": "stderr",
     "output_type": "stream",
     "text": [
      "Warning message in cor.test.default(df_num$Spreadsheet, df_num$Proofreading, method = \"kendall\"):\n",
      "\"Cannot compute exact p-value with ties\"Warning message in cor.test.default(df_num$Spreadsheet, df_num$Proofreading, method = \"spearman\"):\n",
      "\"Cannot compute exact p-value with ties\""
     ]
    }
   ],
   "source": [
    "result <- cor.test(df_num$Spreadsheet, df_num$Proofreading, method =\"pearson\")\n",
    "result2 <- cor.test(df_num$Spreadsheet, df_num$Proofreading, method =\"kendall\")\n",
    "result3 <- cor.test(df_num$Spreadsheet, df_num$Proofreading, method =\"spearman\")"
   ]
  },
  {
   "cell_type": "code",
   "execution_count": 13,
   "metadata": {
    "scrolled": true
   },
   "outputs": [
    {
     "data": {
      "text/html": [
       "<strong>cor:</strong> -0.790000312716386"
      ],
      "text/latex": [
       "\\textbf{cor:} -0.790000312716386"
      ],
      "text/markdown": [
       "**cor:** -0.790000312716386"
      ],
      "text/plain": [
       "       cor \n",
       "-0.7900003 "
      ]
     },
     "metadata": {},
     "output_type": "display_data"
    },
    {
     "data": {
      "text/html": [
       "<strong>tau:</strong> -0.571428780504085"
      ],
      "text/latex": [
       "\\textbf{tau:} -0.571428780504085"
      ],
      "text/markdown": [
       "**tau:** -0.571428780504085"
      ],
      "text/plain": [
       "       tau \n",
       "-0.5714288 "
      ]
     },
     "metadata": {},
     "output_type": "display_data"
    },
    {
     "data": {
      "text/html": [
       "<strong>rho:</strong> -0.743073579719433"
      ],
      "text/latex": [
       "\\textbf{rho:} -0.743073579719433"
      ],
      "text/markdown": [
       "**rho:** -0.743073579719433"
      ],
      "text/plain": [
       "       rho \n",
       "-0.7430736 "
      ]
     },
     "metadata": {},
     "output_type": "display_data"
    }
   ],
   "source": [
    "result$estimate\n",
    "result2$estimate\n",
    "result3$estimate"
   ]
  },
  {
   "cell_type": "markdown",
   "metadata": {},
   "source": [
    "## Linear Model with Words_per_minute in y axis and Proofreading in x axis"
   ]
  },
  {
   "cell_type": "code",
   "execution_count": 15,
   "metadata": {
    "scrolled": true
   },
   "outputs": [
    {
     "data": {
      "text/plain": [
       "\n",
       "Call:\n",
       "lm(formula = df_num$Words_per_minute ~ df_num$Proofreading)\n",
       "\n",
       "Residuals:\n",
       "     Min       1Q   Median       3Q      Max \n",
       "-13.6190  -3.3739  -0.4201   4.5995  10.6723 \n",
       "\n",
       "Coefficients:\n",
       "                    Estimate Std. Error t value Pr(>|t|)    \n",
       "(Intercept)         19.46080    7.21690   2.697   0.0109 *  \n",
       "df_num$Proofreading  0.53641    0.09154   5.860 1.46e-06 ***\n",
       "---\n",
       "Signif. codes:  0 '***' 0.001 '**' 0.01 '*' 0.05 '.' 0.1 ' ' 1\n",
       "\n",
       "Residual standard error: 6.324 on 33 degrees of freedom\n",
       "Multiple R-squared:   0.51,\tAdjusted R-squared:  0.4951 \n",
       "F-statistic: 34.34 on 1 and 33 DF,  p-value: 1.457e-06\n"
      ]
     },
     "metadata": {},
     "output_type": "display_data"
    }
   ],
   "source": [
    "model <- lm(df_num$Words_per_minute ~ df_num$Proofreading)\n",
    "summary(model)"
   ]
  },
  {
   "cell_type": "markdown",
   "metadata": {},
   "source": [
    "### By Observing the Below Plots, we can conclude that the data is non linear and thus, the linear model could not fit properly "
   ]
  },
  {
   "cell_type": "code",
   "execution_count": 17,
   "metadata": {},
   "outputs": [
    {
     "data": {
      "image/png": "[encoded data removed]",
      "text/plain": [
       "Plot with title \"\""
      ]
     },
     "metadata": {},
     "output_type": "display_data"
    },
    {
     "data": {
      "image/png": "[encoded data removed]",
      "text/plain": [
       "Plot with title \"\""
      ]
     },
     "metadata": {},
     "output_type": "display_data"
    },
    {
     "data": {
      "image/png": "[encoded data removed]",
      "text/plain": [
       "Plot with title \"\""
      ]
     },
     "metadata": {},
     "output_type": "display_data"
    },
    {
     "data": {
      "image/png": "[encoded data removed]",
      "text/plain": [
       "Plot with title \"\""
      ]
     },
     "metadata": {},
     "output_type": "display_data"
    }
   ],
   "source": [
    "plot(model)"
   ]
  }
 ],
 "metadata": {
  "kernelspec": {
   "display_name": "R",
   "language": "R",
   "name": "ir"
  },
  "language_info": {
   "codemirror_mode": "r",
   "file_extension": ".r",
   "mimetype": "text/x-r-source",
   "name": "R",
   "pygments_lexer": "r",
   "version": "3.6.1"
  }
 },
 "nbformat": 4,
 "nbformat_minor": 2
}
